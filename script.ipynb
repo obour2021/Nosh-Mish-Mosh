{
 "cells": [
  {
   "cell_type": "code",
   "execution_count": 1,
   "metadata": {},
   "outputs": [],
   "source": [
    "import numpy as np"
   ]
  },
  {
   "cell_type": "code",
   "execution_count": null,
   "metadata": {},
   "outputs": [],
   "source": [
    "all_visitors = noshmishmosh.customer_visits\n",
    "\n",
    "paying_visitors = noshmishmosh.purchasing_customers\n",
    "total_visitor_count = np.size(all_visitors)\n",
    "\n",
    "# print(total_visitor_count)\n",
    "paying_visitor_count = np.size(paying_visitors)\n",
    "\n",
    "# print(paying_visitor_count)\n",
    "baseline_percent = 100 * (paying_visitor_count/total_visitor_count)\n",
    "print(baseline_percent)\n",
    "\n",
    "payment_history = noshmishmosh.money_spent\n",
    "# print(payment_history)\n",
    "\n",
    "average_payment = np.mean(payment_history)\n",
    "new_customers_needed = np.ceil(1240 / average_payment)\n",
    "print(new_customers_needed)\n",
    "\n",
    "percentage_point_increase = new_customers_needed / total_visitor_count * 100\n",
    "print(percentage_point_increase)\n",
    "\n",
    "lift = percentage_point_increase / baseline_percent * 100\n",
    "print(lift)"
   ]
  }
 ],
 "metadata": {
  "kernelspec": {
   "display_name": "Python 3",
   "language": "python",
   "name": "python3"
  },
  "language_info": {
   "codemirror_mode": {
    "name": "ipython",
    "version": 3
   },
   "file_extension": ".py",
   "mimetype": "text/x-python",
   "name": "python",
   "nbconvert_exporter": "python",
   "pygments_lexer": "ipython3",
   "version": "3.7.3"
  }
 },
 "nbformat": 4,
 "nbformat_minor": 2
}
